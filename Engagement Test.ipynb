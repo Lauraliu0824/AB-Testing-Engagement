{
 "cells": [
  {
   "cell_type": "code",
   "execution_count": 1,
   "metadata": {},
   "outputs": [],
   "source": [
    "import pandas as pd\n",
    "import matplotlib.pyplot as plt\n",
    "import numpy as np\n",
    "import seaborn as sns\n",
    "from scipy import stats\n",
    "from datetime import datetime\n"
   ]
  },
  {
   "cell_type": "markdown",
   "metadata": {},
   "source": [
    "# Load data"
   ]
  },
  {
   "cell_type": "markdown",
   "metadata": {},
   "source": [
    "## df_user"
   ]
  },
  {
   "cell_type": "code",
   "execution_count": 10,
   "metadata": {},
   "outputs": [
    {
     "data": {
      "text/html": [
       "<div>\n",
       "<style scoped>\n",
       "    .dataframe tbody tr th:only-of-type {\n",
       "        vertical-align: middle;\n",
       "    }\n",
       "\n",
       "    .dataframe tbody tr th {\n",
       "        vertical-align: top;\n",
       "    }\n",
       "\n",
       "    .dataframe thead th {\n",
       "        text-align: right;\n",
       "    }\n",
       "</style>\n",
       "<table border=\"1\" class=\"dataframe\">\n",
       "  <thead>\n",
       "    <tr style=\"text-align: right;\">\n",
       "      <th></th>\n",
       "      <th>user_id</th>\n",
       "      <th>signup_date</th>\n",
       "    </tr>\n",
       "  </thead>\n",
       "  <tbody>\n",
       "    <tr>\n",
       "      <th>0</th>\n",
       "      <td>34</td>\n",
       "      <td>2015-01-01</td>\n",
       "    </tr>\n",
       "    <tr>\n",
       "      <th>1</th>\n",
       "      <td>59</td>\n",
       "      <td>2015-01-01</td>\n",
       "    </tr>\n",
       "    <tr>\n",
       "      <th>2</th>\n",
       "      <td>178</td>\n",
       "      <td>2015-01-01</td>\n",
       "    </tr>\n",
       "    <tr>\n",
       "      <th>3</th>\n",
       "      <td>285</td>\n",
       "      <td>2015-01-01</td>\n",
       "    </tr>\n",
       "    <tr>\n",
       "      <th>4</th>\n",
       "      <td>383</td>\n",
       "      <td>2015-01-01</td>\n",
       "    </tr>\n",
       "  </tbody>\n",
       "</table>\n",
       "</div>"
      ],
      "text/plain": [
       "   user_id signup_date\n",
       "0       34  2015-01-01\n",
       "1       59  2015-01-01\n",
       "2      178  2015-01-01\n",
       "3      285  2015-01-01\n",
       "4      383  2015-01-01"
      ]
     },
     "execution_count": 10,
     "metadata": {},
     "output_type": "execute_result"
    }
   ],
   "source": [
    "### load data\n",
    "df_user = pd.read_csv('user_table.csv')\n",
    "df_user.head()"
   ]
  },
  {
   "cell_type": "code",
   "execution_count": 12,
   "metadata": {},
   "outputs": [
    {
     "name": "stdout",
     "output_type": "stream",
     "text": [
      "<class 'pandas.core.frame.DataFrame'>\n",
      "RangeIndex: 100000 entries, 0 to 99999\n",
      "Data columns (total 2 columns):\n",
      "user_id        100000 non-null int64\n",
      "signup_date    100000 non-null object\n",
      "dtypes: int64(1), object(1)\n",
      "memory usage: 1.5+ MB\n"
     ]
    }
   ],
   "source": [
    "df_user.info()"
   ]
  },
  {
   "cell_type": "code",
   "execution_count": 9,
   "metadata": {},
   "outputs": [
    {
     "data": {
      "text/html": [
       "<div>\n",
       "<style scoped>\n",
       "    .dataframe tbody tr th:only-of-type {\n",
       "        vertical-align: middle;\n",
       "    }\n",
       "\n",
       "    .dataframe tbody tr th {\n",
       "        vertical-align: top;\n",
       "    }\n",
       "\n",
       "    .dataframe thead th {\n",
       "        text-align: right;\n",
       "    }\n",
       "</style>\n",
       "<table border=\"1\" class=\"dataframe\">\n",
       "  <thead>\n",
       "    <tr style=\"text-align: right;\">\n",
       "      <th></th>\n",
       "      <th>user_id</th>\n",
       "      <th>signup_date</th>\n",
       "    </tr>\n",
       "  </thead>\n",
       "  <tbody>\n",
       "  </tbody>\n",
       "</table>\n",
       "</div>"
      ],
      "text/plain": [
       "Empty DataFrame\n",
       "Columns: [user_id, signup_date]\n",
       "Index: []"
      ]
     },
     "execution_count": 9,
     "metadata": {},
     "output_type": "execute_result"
    }
   ],
   "source": [
    "### any duplicates?\n",
    "df_user[df_user.duplicated()]"
   ]
  },
  {
   "cell_type": "code",
   "execution_count": 24,
   "metadata": {},
   "outputs": [
    {
     "name": "stdout",
     "output_type": "stream",
     "text": [
      "consecutive\n"
     ]
    }
   ],
   "source": [
    "### check if the date is consecutive\n",
    "user_time = df_user.groupby('signup_date').count().reset_index()\n",
    "dates = [datetime.strptime(d, \"%Y-%m-%d\") for d in user_time['signup_date']]\n",
    "\n",
    "date_ints = set([d.toordinal() for d in dates])\n",
    "\n",
    "if len(date_ints) == 1:\n",
    "    print (\"unique\")\n",
    "elif max(date_ints) - min(date_ints) == len(date_ints) - 1:\n",
    "    print (\"consecutive\")\n",
    "else:\n",
    "    print (\"not consecutive\")"
   ]
  },
  {
   "cell_type": "code",
   "execution_count": 25,
   "metadata": {},
   "outputs": [
    {
     "name": "stdout",
     "output_type": "stream",
     "text": [
      "max date is 2015-08-31\n",
      "min date is 2015-01-01\n"
     ]
    }
   ],
   "source": [
    "print(\"max date is\",user_time['signup_date'].max())\n",
    "print(\"min date is\",user_time['signup_date'].min())"
   ]
  },
  {
   "cell_type": "markdown",
   "metadata": {},
   "source": [
    "**<font color='blue'>df_user includes user_id info with their signup date. With 100,000 users in total and no duplicates. All users are signed up between 2015-01-01 and 2015-08-31**"
   ]
  },
  {
   "cell_type": "markdown",
   "metadata": {},
   "source": [
    "## df_test"
   ]
  },
  {
   "cell_type": "code",
   "execution_count": 11,
   "metadata": {},
   "outputs": [
    {
     "data": {
      "text/html": [
       "<div>\n",
       "<style scoped>\n",
       "    .dataframe tbody tr th:only-of-type {\n",
       "        vertical-align: middle;\n",
       "    }\n",
       "\n",
       "    .dataframe tbody tr th {\n",
       "        vertical-align: top;\n",
       "    }\n",
       "\n",
       "    .dataframe thead th {\n",
       "        text-align: right;\n",
       "    }\n",
       "</style>\n",
       "<table border=\"1\" class=\"dataframe\">\n",
       "  <thead>\n",
       "    <tr style=\"text-align: right;\">\n",
       "      <th></th>\n",
       "      <th>user_id</th>\n",
       "      <th>date</th>\n",
       "      <th>browser</th>\n",
       "      <th>test</th>\n",
       "      <th>pages_visited</th>\n",
       "    </tr>\n",
       "  </thead>\n",
       "  <tbody>\n",
       "    <tr>\n",
       "      <th>0</th>\n",
       "      <td>600597</td>\n",
       "      <td>2015-08-13</td>\n",
       "      <td>IE</td>\n",
       "      <td>0</td>\n",
       "      <td>2</td>\n",
       "    </tr>\n",
       "    <tr>\n",
       "      <th>1</th>\n",
       "      <td>4410028</td>\n",
       "      <td>2015-08-26</td>\n",
       "      <td>Chrome</td>\n",
       "      <td>1</td>\n",
       "      <td>5</td>\n",
       "    </tr>\n",
       "    <tr>\n",
       "      <th>2</th>\n",
       "      <td>6004777</td>\n",
       "      <td>2015-08-17</td>\n",
       "      <td>Chrome</td>\n",
       "      <td>0</td>\n",
       "      <td>8</td>\n",
       "    </tr>\n",
       "    <tr>\n",
       "      <th>3</th>\n",
       "      <td>5990330</td>\n",
       "      <td>2015-08-27</td>\n",
       "      <td>Safari</td>\n",
       "      <td>0</td>\n",
       "      <td>8</td>\n",
       "    </tr>\n",
       "    <tr>\n",
       "      <th>4</th>\n",
       "      <td>3622310</td>\n",
       "      <td>2015-08-07</td>\n",
       "      <td>Firefox</td>\n",
       "      <td>0</td>\n",
       "      <td>1</td>\n",
       "    </tr>\n",
       "  </tbody>\n",
       "</table>\n",
       "</div>"
      ],
      "text/plain": [
       "   user_id        date  browser  test  pages_visited\n",
       "0   600597  2015-08-13       IE     0              2\n",
       "1  4410028  2015-08-26   Chrome     1              5\n",
       "2  6004777  2015-08-17   Chrome     0              8\n",
       "3  5990330  2015-08-27   Safari     0              8\n",
       "4  3622310  2015-08-07  Firefox     0              1"
      ]
     },
     "execution_count": 11,
     "metadata": {},
     "output_type": "execute_result"
    }
   ],
   "source": [
    "df_test = pd.read_csv('test_table.csv')\n",
    "df_test.head()"
   ]
  },
  {
   "cell_type": "code",
   "execution_count": 26,
   "metadata": {},
   "outputs": [
    {
     "data": {
      "text/html": [
       "<div>\n",
       "<style scoped>\n",
       "    .dataframe tbody tr th:only-of-type {\n",
       "        vertical-align: middle;\n",
       "    }\n",
       "\n",
       "    .dataframe tbody tr th {\n",
       "        vertical-align: top;\n",
       "    }\n",
       "\n",
       "    .dataframe thead th {\n",
       "        text-align: right;\n",
       "    }\n",
       "</style>\n",
       "<table border=\"1\" class=\"dataframe\">\n",
       "  <thead>\n",
       "    <tr style=\"text-align: right;\">\n",
       "      <th></th>\n",
       "      <th>user_id</th>\n",
       "      <th>date</th>\n",
       "      <th>browser</th>\n",
       "      <th>test</th>\n",
       "      <th>pages_visited</th>\n",
       "    </tr>\n",
       "  </thead>\n",
       "  <tbody>\n",
       "  </tbody>\n",
       "</table>\n",
       "</div>"
      ],
      "text/plain": [
       "Empty DataFrame\n",
       "Columns: [user_id, date, browser, test, pages_visited]\n",
       "Index: []"
      ]
     },
     "execution_count": 26,
     "metadata": {},
     "output_type": "execute_result"
    }
   ],
   "source": [
    "### duplicated?\n",
    "df_test[df_test.duplicated()]"
   ]
  },
  {
   "cell_type": "code",
   "execution_count": 27,
   "metadata": {},
   "outputs": [
    {
     "name": "stdout",
     "output_type": "stream",
     "text": [
      "<class 'pandas.core.frame.DataFrame'>\n",
      "RangeIndex: 100000 entries, 0 to 99999\n",
      "Data columns (total 5 columns):\n",
      "user_id          100000 non-null int64\n",
      "date             100000 non-null object\n",
      "browser          100000 non-null object\n",
      "test             100000 non-null int64\n",
      "pages_visited    100000 non-null int64\n",
      "dtypes: int64(3), object(2)\n",
      "memory usage: 3.8+ MB\n"
     ]
    }
   ],
   "source": [
    "df_test.info()"
   ]
  },
  {
   "cell_type": "code",
   "execution_count": 32,
   "metadata": {},
   "outputs": [
    {
     "name": "stdout",
     "output_type": "stream",
     "text": [
      "consecutive\n"
     ]
    }
   ],
   "source": [
    "### check if the date is consecutive\n",
    "user_time = df_test.groupby('date').count()['user_id'].reset_index()\n",
    "dates = [datetime.strptime(d, \"%Y-%m-%d\") for d in user_time['date']]\n",
    "\n",
    "date_ints = set([d.toordinal() for d in dates])\n",
    "\n",
    "if len(date_ints) == 1:\n",
    "    print (\"unique\")\n",
    "elif max(date_ints) - min(date_ints) == len(date_ints) - 1:\n",
    "    print (\"consecutive\")\n",
    "else:\n",
    "    print (\"not consecutive\")"
   ]
  },
  {
   "cell_type": "code",
   "execution_count": 28,
   "metadata": {},
   "outputs": [
    {
     "name": "stdout",
     "output_type": "stream",
     "text": [
      "max date is 2015-08-31\n",
      "min date is 2015-08-01\n"
     ]
    }
   ],
   "source": [
    "print(\"max date is\",df_test['date'].max())\n",
    "print(\"min date is\",df_test['date'].min())"
   ]
  },
  {
   "cell_type": "code",
   "execution_count": 99,
   "metadata": {},
   "outputs": [
    {
     "name": "stdout",
     "output_type": "stream",
     "text": [
      "if the result is true, the user_id are unique with no duplicates --> True\n"
     ]
    }
   ],
   "source": [
    "### are those unique user?\n",
    "print(\"if the result is true, the user_id are unique with no duplicates -->\", df_test['user_id'].nunique() == df_test.shape[0])"
   ]
  },
  {
   "cell_type": "markdown",
   "metadata": {},
   "source": [
    "**<font color='blue'>df_test includes test info with control and experiment group. With 100,000 users in total and no duplicates. This test is in August 2015**"
   ]
  },
  {
   "cell_type": "markdown",
   "metadata": {},
   "source": [
    "## Merge Data"
   ]
  },
  {
   "cell_type": "code",
   "execution_count": 36,
   "metadata": {
    "scrolled": true
   },
   "outputs": [
    {
     "data": {
      "text/html": [
       "<div>\n",
       "<style scoped>\n",
       "    .dataframe tbody tr th:only-of-type {\n",
       "        vertical-align: middle;\n",
       "    }\n",
       "\n",
       "    .dataframe tbody tr th {\n",
       "        vertical-align: top;\n",
       "    }\n",
       "\n",
       "    .dataframe thead th {\n",
       "        text-align: right;\n",
       "    }\n",
       "</style>\n",
       "<table border=\"1\" class=\"dataframe\">\n",
       "  <thead>\n",
       "    <tr style=\"text-align: right;\">\n",
       "      <th></th>\n",
       "      <th>user_id</th>\n",
       "      <th>date</th>\n",
       "      <th>browser</th>\n",
       "      <th>test</th>\n",
       "      <th>pages_visited</th>\n",
       "      <th>signup_date</th>\n",
       "    </tr>\n",
       "  </thead>\n",
       "  <tbody>\n",
       "    <tr>\n",
       "      <th>0</th>\n",
       "      <td>600597</td>\n",
       "      <td>2015-08-13</td>\n",
       "      <td>IE</td>\n",
       "      <td>0</td>\n",
       "      <td>2</td>\n",
       "      <td>2015-01-19</td>\n",
       "    </tr>\n",
       "    <tr>\n",
       "      <th>1</th>\n",
       "      <td>4410028</td>\n",
       "      <td>2015-08-26</td>\n",
       "      <td>Chrome</td>\n",
       "      <td>1</td>\n",
       "      <td>5</td>\n",
       "      <td>2015-05-11</td>\n",
       "    </tr>\n",
       "    <tr>\n",
       "      <th>2</th>\n",
       "      <td>6004777</td>\n",
       "      <td>2015-08-17</td>\n",
       "      <td>Chrome</td>\n",
       "      <td>0</td>\n",
       "      <td>8</td>\n",
       "      <td>2015-06-26</td>\n",
       "    </tr>\n",
       "    <tr>\n",
       "      <th>3</th>\n",
       "      <td>5990330</td>\n",
       "      <td>2015-08-27</td>\n",
       "      <td>Safari</td>\n",
       "      <td>0</td>\n",
       "      <td>8</td>\n",
       "      <td>2015-06-25</td>\n",
       "    </tr>\n",
       "    <tr>\n",
       "      <th>4</th>\n",
       "      <td>3622310</td>\n",
       "      <td>2015-08-07</td>\n",
       "      <td>Firefox</td>\n",
       "      <td>0</td>\n",
       "      <td>1</td>\n",
       "      <td>2015-04-17</td>\n",
       "    </tr>\n",
       "  </tbody>\n",
       "</table>\n",
       "</div>"
      ],
      "text/plain": [
       "   user_id        date  browser  test  pages_visited signup_date\n",
       "0   600597  2015-08-13       IE     0              2  2015-01-19\n",
       "1  4410028  2015-08-26   Chrome     1              5  2015-05-11\n",
       "2  6004777  2015-08-17   Chrome     0              8  2015-06-26\n",
       "3  5990330  2015-08-27   Safari     0              8  2015-06-25\n",
       "4  3622310  2015-08-07  Firefox     0              1  2015-04-17"
      ]
     },
     "execution_count": 36,
     "metadata": {},
     "output_type": "execute_result"
    }
   ],
   "source": [
    "df_merge = df_test.merge(df_user,on='user_id',how='left')\n",
    "df_merge.head()"
   ]
  },
  {
   "cell_type": "code",
   "execution_count": 38,
   "metadata": {},
   "outputs": [
    {
     "name": "stdout",
     "output_type": "stream",
     "text": [
      "dataframe is right after merging if it is true--> True\n"
     ]
    }
   ],
   "source": [
    "###check lenth before and after merge\n",
    "print(\"dataframe is right after merging if it is true-->\", df_merge.shape[0] == df_test.shape[0])"
   ]
  },
  {
   "cell_type": "code",
   "execution_count": 39,
   "metadata": {},
   "outputs": [
    {
     "name": "stdout",
     "output_type": "stream",
     "text": [
      "<class 'pandas.core.frame.DataFrame'>\n",
      "Int64Index: 100000 entries, 0 to 99999\n",
      "Data columns (total 6 columns):\n",
      "user_id          100000 non-null int64\n",
      "date             100000 non-null object\n",
      "browser          100000 non-null object\n",
      "test             100000 non-null int64\n",
      "pages_visited    100000 non-null int64\n",
      "signup_date      100000 non-null object\n",
      "dtypes: int64(3), object(3)\n",
      "memory usage: 5.3+ MB\n"
     ]
    }
   ],
   "source": [
    "#### check if there is NA\n",
    "df_merge.info()"
   ]
  },
  {
   "cell_type": "code",
   "execution_count": 44,
   "metadata": {},
   "outputs": [
    {
     "data": {
      "text/html": [
       "<div>\n",
       "<style scoped>\n",
       "    .dataframe tbody tr th:only-of-type {\n",
       "        vertical-align: middle;\n",
       "    }\n",
       "\n",
       "    .dataframe tbody tr th {\n",
       "        vertical-align: top;\n",
       "    }\n",
       "\n",
       "    .dataframe thead th {\n",
       "        text-align: right;\n",
       "    }\n",
       "</style>\n",
       "<table border=\"1\" class=\"dataframe\">\n",
       "  <thead>\n",
       "    <tr style=\"text-align: right;\">\n",
       "      <th></th>\n",
       "      <th>user_id</th>\n",
       "      <th>date</th>\n",
       "      <th>browser</th>\n",
       "      <th>test</th>\n",
       "      <th>pages_visited</th>\n",
       "      <th>signup_date</th>\n",
       "      <th>check_time</th>\n",
       "    </tr>\n",
       "  </thead>\n",
       "  <tbody>\n",
       "  </tbody>\n",
       "</table>\n",
       "</div>"
      ],
      "text/plain": [
       "Empty DataFrame\n",
       "Columns: [user_id, date, browser, test, pages_visited, signup_date, check_time]\n",
       "Index: []"
      ]
     },
     "execution_count": 44,
     "metadata": {},
     "output_type": "execute_result"
    }
   ],
   "source": [
    "##### signup_date column is the date the user signed up, so column date will be later than it. Let's check. \n",
    "df_check_time = df_merge.copy()\n",
    "df_check_time['check_time'] = df_merge['date']>=df_merge['signup_date']\n",
    "df_check_time[df_check_time['check_time'] != True]"
   ]
  },
  {
   "cell_type": "code",
   "execution_count": 130,
   "metadata": {},
   "outputs": [
    {
     "data": {
      "text/html": [
       "<div>\n",
       "<style scoped>\n",
       "    .dataframe tbody tr th:only-of-type {\n",
       "        vertical-align: middle;\n",
       "    }\n",
       "\n",
       "    .dataframe tbody tr th {\n",
       "        vertical-align: top;\n",
       "    }\n",
       "\n",
       "    .dataframe thead th {\n",
       "        text-align: right;\n",
       "    }\n",
       "</style>\n",
       "<table border=\"1\" class=\"dataframe\">\n",
       "  <thead>\n",
       "    <tr style=\"text-align: right;\">\n",
       "      <th></th>\n",
       "      <th>user_id</th>\n",
       "      <th>date</th>\n",
       "      <th>browser</th>\n",
       "      <th>pages_visited</th>\n",
       "      <th>signup_date</th>\n",
       "    </tr>\n",
       "    <tr>\n",
       "      <th>test</th>\n",
       "      <th></th>\n",
       "      <th></th>\n",
       "      <th></th>\n",
       "      <th></th>\n",
       "      <th></th>\n",
       "    </tr>\n",
       "  </thead>\n",
       "  <tbody>\n",
       "    <tr>\n",
       "      <th>0</th>\n",
       "      <td>48737</td>\n",
       "      <td>48737</td>\n",
       "      <td>48737</td>\n",
       "      <td>48737</td>\n",
       "      <td>48737</td>\n",
       "    </tr>\n",
       "    <tr>\n",
       "      <th>1</th>\n",
       "      <td>49136</td>\n",
       "      <td>49136</td>\n",
       "      <td>49136</td>\n",
       "      <td>49136</td>\n",
       "      <td>49136</td>\n",
       "    </tr>\n",
       "  </tbody>\n",
       "</table>\n",
       "</div>"
      ],
      "text/plain": [
       "      user_id   date  browser  pages_visited  signup_date\n",
       "test                                                     \n",
       "0       48737  48737    48737          48737        48737\n",
       "1       49136  49136    49136          49136        49136"
      ]
     },
     "execution_count": 130,
     "metadata": {},
     "output_type": "execute_result"
    }
   ],
   "source": [
    "df_merge.groupby('test').count()"
   ]
  },
  {
   "cell_type": "markdown",
   "metadata": {},
   "source": [
    "# Explore Data"
   ]
  },
  {
   "cell_type": "code",
   "execution_count": 90,
   "metadata": {},
   "outputs": [
    {
     "data": {
      "text/plain": [
       "Text(761.8522727272725, 0.5, ' pageviews')"
      ]
     },
     "execution_count": 90,
     "metadata": {},
     "output_type": "execute_result"
    },
    {
     "data": {
      "image/png": "[encoded data removed]",
      "text/plain": [
       "<Figure size 1440x576 with 2 Axes>"
      ]
     },
     "metadata": {
      "needs_background": "light"
     },
     "output_type": "display_data"
    }
   ],
   "source": [
    "df1 = df_merge.groupby(['test','browser']).count()['user_id'].reset_index()\n",
    "df2 = df_merge.groupby(['test','browser']).mean()['pages_visited'].reset_index()\n",
    "\n",
    "fig, ax = plt.subplots(nrows=1, ncols=2, figsize=(20, 8))\n",
    "sns.barplot(x='browser', y=\"user_id\", hue='test', data=df1, ax=ax[0])\n",
    "ax[0].set_title('Count of users by browser', fontsize=20)\n",
    "#ax[0].set_yscale('log')\n",
    "ax[0].set_ylabel(' user count', fontsize=12)\n",
    "#ax[0].set_xticklabels(labels=df_breakdown['source'], rotation=45)\n",
    "plt.tight_layout()\n",
    "############ metrics, which one is higher bt control and exp group. They should follow the same trend\n",
    "\n",
    "sns.barplot(x='browser', y=\"pages_visited\", hue='test', data=df2, ax=ax[1])\n",
    "ax[1].set_title('Avg Pageviews by browser', fontsize=20)\n",
    "#ax[1].set_yscale('log')\n",
    "ax[1].set_ylabel(' pageviews', fontsize=12)\n",
    "\n",
    "#ax[1].set_xticklabels(labels=df_breakdown['source'].unique(), rotation=45)\n",
    "######## The percentage of each category should be the same between control and exp group"
   ]
  },
  {
   "cell_type": "markdown",
   "metadata": {},
   "source": [
    "<font color='blue'> Opera browser has the least number of user and the least avg pageviews\n",
    "\n",
    "<font color='blue'> Count of users are about evenly split between test and control group    \n",
    "\n",
    "<font color='blue'> The avgerage pageviews in experiment group are higher than control group, but just a little big.\n",
    "\n",
    "<font color='blue'> No record for the avg pageviews of experiment group. Could caused by very few number of user with no many pageviews\n",
    "    \n"
   ]
  },
  {
   "cell_type": "code",
   "execution_count": 86,
   "metadata": {},
   "outputs": [
    {
     "data": {
      "image/png": "[encoded data removed]",
      "text/plain": [
       "<Figure size 936x360 with 2 Axes>"
      ]
     },
     "metadata": {
      "needs_background": "light"
     },
     "output_type": "display_data"
    }
   ],
   "source": [
    "control_count = df_merge[df_merge['test'] == 0].groupby(['test','date']).count()['user_id'].reset_index()\n",
    "test_count = df_merge[df_merge['test'] == 1].groupby(['test','date']).count()['user_id'].reset_index()\n",
    "\n",
    "control_avg = df_merge[df_merge['test'] == 0].groupby(['test','date']).mean()['pages_visited'].reset_index()\n",
    "test_avg = df_merge[df_merge['test'] == 1].groupby(['test','date']).mean()['pages_visited'].reset_index()\n",
    "\n",
    "## time\n",
    "fig, ax = plt.subplots(nrows=1, ncols=2,figsize=(13, 5))\n",
    "ax[0].plot(control_count['date'],control_count['user_id'],'.-',label = 'control')\n",
    "ax[0].plot(test_count['date'],test_count['user_id'],'.-',label = 'exp')\n",
    "\n",
    "ax[0].set_title('daily count',fontsize = 16)\n",
    "#ax[0].set_xlabel('date')\n",
    "#ax[0].set_ylabel('count')\n",
    "ax[0].legend()\n",
    "ax[0].set_xticklabels(labels=test_count['date'].unique(), rotation=45)\n",
    "\n",
    "\n",
    "ax[1].plot(control_avg['date'],control_avg['pages_visited'],'.-',label = 'control')\n",
    "ax[1].plot(test_avg['date'],test_avg['pages_visited'],'.-',label = 'exp')\n",
    "ax[1].set_xticklabels(labels=test_avg['date'].unique(), rotation=45)\n",
    "ax[1].set_title('daily pageview',fontsize = 16)\n",
    "\n",
    "plt.tight_layout()\n",
    "plt.show()"
   ]
  },
  {
   "cell_type": "markdown",
   "metadata": {},
   "source": [
    "<font color='blue'> Daily count follows a very strong weekly pattern\n",
    "\n",
    "<font color='blue'> The sample size split evenly between control and test group    \n",
    "\n",
    "<font color='blue'> Average daily pageviews follows a strong patten within every 7 days\n",
    "\n",
    "<font color='blue'> When daily pageviews of test group drops, it drops even more intense compared to control group\n",
    "\n",
    "<font color='blue'> Can't tell which group has a higher pageviews by plot\n",
    "\n",
    "    "
   ]
  },
  {
   "cell_type": "markdown",
   "metadata": {},
   "source": [
    "# AB testing"
   ]
  },
  {
   "cell_type": "code",
   "execution_count": 107,
   "metadata": {},
   "outputs": [
    {
     "data": {
      "text/plain": [
       "(array([  0.,  20.,  40.,  60.,  80., 100.]),\n",
       " <a list of 6 Text yticklabel objects>)"
      ]
     },
     "execution_count": 107,
     "metadata": {},
     "output_type": "execute_result"
    },
    {
     "data": {
      "image/png": "[encoded data removed]",
      "text/plain": [
       "<Figure size 1440x720 with 1 Axes>"
      ]
     },
     "metadata": {
      "needs_background": "light"
     },
     "output_type": "display_data"
    }
   ],
   "source": [
    "##split control group and test group\n",
    "df_ctrl = df_merge[df_merge['test'] == 0]\n",
    "df_exp = df_merge[df_merge['test'] == 1]\n",
    "\n",
    "\n",
    "def expect_buyer_multiple(df, n):\n",
    "    avg_pageviews = []\n",
    "    for i in range(0,n):\n",
    "        df2 = df.sample(frac=0.1, replace=False)\n",
    "        avg_pageview = df2['pages_visited'].mean()\n",
    "        avg_pageviews.append(avg_pageview)\n",
    "        \n",
    "    return avg_pageviews\n",
    "\n",
    "exp_ctrl = expect_buyer_multiple(df_ctrl,1000)\n",
    "exp_test = expect_buyer_multiple(df_exp,1000)\n",
    "\n",
    "\n",
    "\n",
    "\n",
    "plt.figure(figsize=[20,10])\n",
    "plt.hist(exp_ctrl,30, histtype='stepfilled', color='blue', alpha=0.50, label='ctrl')\n",
    "plt.hist(exp_test,30, histtype='stepfilled', color='red', alpha=0.50, label='test')\n",
    "plt.legend(loc='upper right', fontsize=30)\n",
    "plt.xlabel('avg pageviews', fontsize=30)\n",
    "plt.ylabel('Frequency', fontsize=30)\n",
    "plt.xticks(fontsize=30)\n",
    "plt.yticks(fontsize=30)\n"
   ]
  },
  {
   "cell_type": "code",
   "execution_count": 93,
   "metadata": {},
   "outputs": [
    {
     "data": {
      "text/html": [
       "<div>\n",
       "<style scoped>\n",
       "    .dataframe tbody tr th:only-of-type {\n",
       "        vertical-align: middle;\n",
       "    }\n",
       "\n",
       "    .dataframe tbody tr th {\n",
       "        vertical-align: top;\n",
       "    }\n",
       "\n",
       "    .dataframe thead th {\n",
       "        text-align: right;\n",
       "    }\n",
       "</style>\n",
       "<table border=\"1\" class=\"dataframe\">\n",
       "  <thead>\n",
       "    <tr style=\"text-align: right;\">\n",
       "      <th></th>\n",
       "      <th>pages_visited</th>\n",
       "    </tr>\n",
       "    <tr>\n",
       "      <th>test</th>\n",
       "      <th></th>\n",
       "    </tr>\n",
       "  </thead>\n",
       "  <tbody>\n",
       "    <tr>\n",
       "      <th>0</th>\n",
       "      <td>4.608394</td>\n",
       "    </tr>\n",
       "    <tr>\n",
       "      <th>1</th>\n",
       "      <td>4.599693</td>\n",
       "    </tr>\n",
       "  </tbody>\n",
       "</table>\n",
       "</div>"
      ],
      "text/plain": [
       "      pages_visited\n",
       "test               \n",
       "0          4.608394\n",
       "1          4.599693"
      ]
     },
     "execution_count": 93,
     "metadata": {},
     "output_type": "execute_result"
    }
   ],
   "source": [
    "df_merge[['test','pages_visited']].groupby('test').mean()"
   ]
  },
  {
   "cell_type": "markdown",
   "metadata": {},
   "source": [
    "**<font color='blue'> The sampling distribution of two groups are pretty the same, as well as the mean(pageviews) of two groups, which suggests the test may not be successful**\n",
    "    \n",
    "Let's run a two tail hypothesis test to see:\n",
    "\n",
    "* H0: mean(control) = mean(test)\n",
    "* H1: mean(control) <> mean(test)\n",
    "\n"
   ]
  },
  {
   "cell_type": "code",
   "execution_count": 95,
   "metadata": {},
   "outputs": [
    {
     "name": "stdout",
     "output_type": "stream",
     "text": [
      "fail to reject null H0\n"
     ]
    }
   ],
   "source": [
    "Ttest_indResult = stats.ttest_ind(df_ctrl['pages_visited'], df_exp['pages_visited'], axis=0, equal_var=True)\n",
    "\n",
    "if Ttest_indResult.pvalue > 0.05:\n",
    "  print(\"fail to reject null H0\")\n",
    "elif Ttest_indResult.pvalue <= 0.05:\n",
    "  print(\"reject H0\")"
   ]
  },
  {
   "cell_type": "markdown",
   "metadata": {},
   "source": [
    "**<font color='blue'> The hypothesis test tells us the same result that: there is no significant difference between means of those two groups, which suggests the Remoomended Friends program is not successful**"
   ]
  },
  {
   "cell_type": "markdown",
   "metadata": {},
   "source": [
    "# AB Test Segment check"
   ]
  },
  {
   "cell_type": "markdown",
   "metadata": {},
   "source": [
    "## By browser"
   ]
  },
  {
   "cell_type": "code",
   "execution_count": 100,
   "metadata": {},
   "outputs": [
    {
     "data": {
      "text/html": [
       "<div>\n",
       "<style scoped>\n",
       "    .dataframe tbody tr th:only-of-type {\n",
       "        vertical-align: middle;\n",
       "    }\n",
       "\n",
       "    .dataframe tbody tr th {\n",
       "        vertical-align: top;\n",
       "    }\n",
       "\n",
       "    .dataframe thead th {\n",
       "        text-align: right;\n",
       "    }\n",
       "</style>\n",
       "<table border=\"1\" class=\"dataframe\">\n",
       "  <thead>\n",
       "    <tr style=\"text-align: right;\">\n",
       "      <th></th>\n",
       "      <th>user_id</th>\n",
       "      <th>date</th>\n",
       "      <th>browser</th>\n",
       "      <th>test</th>\n",
       "      <th>pages_visited</th>\n",
       "      <th>signup_date</th>\n",
       "    </tr>\n",
       "  </thead>\n",
       "  <tbody>\n",
       "    <tr>\n",
       "      <th>0</th>\n",
       "      <td>600597</td>\n",
       "      <td>2015-08-13</td>\n",
       "      <td>IE</td>\n",
       "      <td>0</td>\n",
       "      <td>2</td>\n",
       "      <td>2015-01-19</td>\n",
       "    </tr>\n",
       "    <tr>\n",
       "      <th>1</th>\n",
       "      <td>4410028</td>\n",
       "      <td>2015-08-26</td>\n",
       "      <td>Chrome</td>\n",
       "      <td>1</td>\n",
       "      <td>5</td>\n",
       "      <td>2015-05-11</td>\n",
       "    </tr>\n",
       "    <tr>\n",
       "      <th>2</th>\n",
       "      <td>6004777</td>\n",
       "      <td>2015-08-17</td>\n",
       "      <td>Chrome</td>\n",
       "      <td>0</td>\n",
       "      <td>8</td>\n",
       "      <td>2015-06-26</td>\n",
       "    </tr>\n",
       "    <tr>\n",
       "      <th>3</th>\n",
       "      <td>5990330</td>\n",
       "      <td>2015-08-27</td>\n",
       "      <td>Safari</td>\n",
       "      <td>0</td>\n",
       "      <td>8</td>\n",
       "      <td>2015-06-25</td>\n",
       "    </tr>\n",
       "    <tr>\n",
       "      <th>4</th>\n",
       "      <td>3622310</td>\n",
       "      <td>2015-08-07</td>\n",
       "      <td>Firefox</td>\n",
       "      <td>0</td>\n",
       "      <td>1</td>\n",
       "      <td>2015-04-17</td>\n",
       "    </tr>\n",
       "  </tbody>\n",
       "</table>\n",
       "</div>"
      ],
      "text/plain": [
       "   user_id        date  browser  test  pages_visited signup_date\n",
       "0   600597  2015-08-13       IE     0              2  2015-01-19\n",
       "1  4410028  2015-08-26   Chrome     1              5  2015-05-11\n",
       "2  6004777  2015-08-17   Chrome     0              8  2015-06-26\n",
       "3  5990330  2015-08-27   Safari     0              8  2015-06-25\n",
       "4  3622310  2015-08-07  Firefox     0              1  2015-04-17"
      ]
     },
     "execution_count": 100,
     "metadata": {},
     "output_type": "execute_result"
    }
   ],
   "source": [
    "df_merge.head()"
   ]
  },
  {
   "cell_type": "code",
   "execution_count": 121,
   "metadata": {},
   "outputs": [
    {
     "data": {
      "text/html": [
       "<div>\n",
       "<style scoped>\n",
       "    .dataframe tbody tr th:only-of-type {\n",
       "        vertical-align: middle;\n",
       "    }\n",
       "\n",
       "    .dataframe tbody tr th {\n",
       "        vertical-align: top;\n",
       "    }\n",
       "\n",
       "    .dataframe thead th {\n",
       "        text-align: right;\n",
       "    }\n",
       "</style>\n",
       "<table border=\"1\" class=\"dataframe\">\n",
       "  <thead>\n",
       "    <tr style=\"text-align: right;\">\n",
       "      <th></th>\n",
       "      <th>browser</th>\n",
       "      <th>exp_means</th>\n",
       "      <th>control_means</th>\n",
       "      <th>diff_means</th>\n",
       "      <th>Pvalues</th>\n",
       "      <th>results</th>\n",
       "    </tr>\n",
       "  </thead>\n",
       "  <tbody>\n",
       "    <tr>\n",
       "      <th>0</th>\n",
       "      <td>IE</td>\n",
       "      <td>4.685985</td>\n",
       "      <td>4.598478</td>\n",
       "      <td>0.087507</td>\n",
       "      <td>0.007781</td>\n",
       "      <td>OHYEAH! This diff is significant</td>\n",
       "    </tr>\n",
       "    <tr>\n",
       "      <th>1</th>\n",
       "      <td>Chrome</td>\n",
       "      <td>4.690680</td>\n",
       "      <td>4.613341</td>\n",
       "      <td>0.077339</td>\n",
       "      <td>0.000913</td>\n",
       "      <td>OHYEAH! This diff is significant</td>\n",
       "    </tr>\n",
       "    <tr>\n",
       "      <th>2</th>\n",
       "      <td>Safari</td>\n",
       "      <td>4.692336</td>\n",
       "      <td>4.638180</td>\n",
       "      <td>0.054156</td>\n",
       "      <td>0.241212</td>\n",
       "      <td>This diff is by chance</td>\n",
       "    </tr>\n",
       "    <tr>\n",
       "      <th>3</th>\n",
       "      <td>Firefox</td>\n",
       "      <td>4.714259</td>\n",
       "      <td>4.600164</td>\n",
       "      <td>0.114095</td>\n",
       "      <td>0.000597</td>\n",
       "      <td>OHYEAH! This diff is significant</td>\n",
       "    </tr>\n",
       "    <tr>\n",
       "      <th>4</th>\n",
       "      <td>Opera</td>\n",
       "      <td>0.000000</td>\n",
       "      <td>4.546438</td>\n",
       "      <td>-4.546438</td>\n",
       "      <td>0.000000</td>\n",
       "      <td>OHYEAH! This diff is significant</td>\n",
       "    </tr>\n",
       "  </tbody>\n",
       "</table>\n",
       "</div>"
      ],
      "text/plain": [
       "   browser  exp_means  control_means  diff_means   Pvalues  \\\n",
       "0       IE   4.685985       4.598478    0.087507  0.007781   \n",
       "1   Chrome   4.690680       4.613341    0.077339  0.000913   \n",
       "2   Safari   4.692336       4.638180    0.054156  0.241212   \n",
       "3  Firefox   4.714259       4.600164    0.114095  0.000597   \n",
       "4    Opera   0.000000       4.546438   -4.546438  0.000000   \n",
       "\n",
       "                            results  \n",
       "0  OHYEAH! This diff is significant  \n",
       "1  OHYEAH! This diff is significant  \n",
       "2            This diff is by chance  \n",
       "3  OHYEAH! This diff is significant  \n",
       "4  OHYEAH! This diff is significant  "
      ]
     },
     "execution_count": 121,
     "metadata": {},
     "output_type": "execute_result"
    }
   ],
   "source": [
    "dimension = 'browser'\n",
    "metrics = 'pages_visited'\n",
    "raw_date = df_merge.copy()\n",
    "#############################################################\n",
    "\n",
    "dimension_list = raw_date[dimension].unique().tolist()\n",
    "exp_means = []\n",
    "control_means = []\n",
    "diff_means = []\n",
    "Pvalues = []\n",
    "results = []\n",
    "for i in browser_list:\n",
    "    ##split control group and test group\n",
    "    df_ctrl = raw_date[raw_date['test'] == 0]\n",
    "    df_exp = raw_date[raw_date['test'] == 1]\n",
    "    \n",
    "    ## control group\n",
    "    df_ctrl = df_ctrl[df_ctrl[dimension] == i]\n",
    "    ## exp group\n",
    "    df_exp = df_exp[df_exp[dimension] == i]\n",
    "    ##mean\n",
    "    exp_mean = df_exp[metrics].mean()  ####### mean is our metrics\n",
    "    control_mean = df_ctrl[metrics].mean()  ####### mean is our metrics\n",
    "    diff_mean = exp_mean-control_mean\n",
    "    ##pvalue\n",
    "    Ttest_indResult = stats.ttest_ind(df_exp[metrics], df_ctrl[metrics], axis=0, equal_var=True)\n",
    "    Pvalue = Ttest_indResult.pvalue     ############## two tail test\n",
    "    ##result\n",
    "    if Pvalue > 0.05:\n",
    "      result = \"This diff is by chance\"\n",
    "    elif Pvalue <= 0.05:\n",
    "      result = \"OHYEAH! This diff is significant\"\n",
    "    \n",
    "    exp_means.append(exp_mean)\n",
    "    control_means.append(control_mean)\n",
    "    diff_means.append(diff_mean)\n",
    "    Pvalues.append(Pvalue)\n",
    "    results.append(result)\n",
    "\n",
    "d = {'browser': browser_list, 'exp_means': exp_means,\n",
    "     'control_means': control_means, 'diff_means':diff_means,'Pvalues':Pvalues,'results':results}\n",
    "df_dimension_pvalue = pd.DataFrame(data=d)\n",
    "df_dimension_pvalue"
   ]
  },
  {
   "cell_type": "markdown",
   "metadata": {},
   "source": [
    "**<font color='color'> Interesting observation: we see significant increase of pageview increase in brower: IE, Chrome, Firefox, which are the most used browser on our site, according to the data visualization. At this point, I would say the test is successful**"
   ]
  },
  {
   "cell_type": "markdown",
   "metadata": {},
   "source": [
    "**<font color='color'> Also, it seems like each browser responded differently to the test. IE, Chrome, Firefox are successful in this test, compared to Opera which doesn't have any page_visited in the experiment group.**\n",
    "    \n",
    "* Any problem on the UI of Opera brower during the test?\n"
   ]
  },
  {
   "cell_type": "markdown",
   "metadata": {},
   "source": [
    "# Updated AB test result check --- remove Opera browser"
   ]
  },
  {
   "cell_type": "code",
   "execution_count": 125,
   "metadata": {},
   "outputs": [],
   "source": [
    "df_merge = df_merge[df_merge['browser']!= 'Opera']"
   ]
  },
  {
   "cell_type": "code",
   "execution_count": 126,
   "metadata": {},
   "outputs": [
    {
     "data": {
      "text/plain": [
       "(array([  0.,  20.,  40.,  60.,  80., 100., 120.]),\n",
       " <a list of 7 Text yticklabel objects>)"
      ]
     },
     "execution_count": 126,
     "metadata": {},
     "output_type": "execute_result"
    },
    {
     "data": {
      "image/png": "[encoded data removed]",
      "text/plain": [
       "<Figure size 1440x720 with 1 Axes>"
      ]
     },
     "metadata": {
      "needs_background": "light"
     },
     "output_type": "display_data"
    }
   ],
   "source": [
    "##split control group and test group\n",
    "df_ctrl = df_merge[df_merge['test'] == 0]\n",
    "df_exp = df_merge[df_merge['test'] == 1]\n",
    "\n",
    "\n",
    "def expect_buyer_multiple(df, n):\n",
    "    avg_pageviews = []\n",
    "    for i in range(0,n):\n",
    "        df2 = df.sample(frac=0.1, replace=False)\n",
    "        avg_pageview = df2['pages_visited'].mean()\n",
    "        avg_pageviews.append(avg_pageview)\n",
    "        \n",
    "    return avg_pageviews\n",
    "\n",
    "exp_ctrl = expect_buyer_multiple(df_ctrl,1000)\n",
    "exp_test = expect_buyer_multiple(df_exp,1000)\n",
    "\n",
    "\n",
    "\n",
    "\n",
    "plt.figure(figsize=[20,10])\n",
    "plt.hist(exp_ctrl,30, histtype='stepfilled', color='blue', alpha=0.50, label='ctrl')\n",
    "plt.hist(exp_test,30, histtype='stepfilled', color='red', alpha=0.50, label='test')\n",
    "plt.legend(loc='upper right', fontsize=30)\n",
    "plt.xlabel('avg pageviews', fontsize=30)\n",
    "plt.ylabel('Frequency', fontsize=30)\n",
    "plt.xticks(fontsize=30)\n",
    "plt.yticks(fontsize=30)\n"
   ]
  },
  {
   "cell_type": "code",
   "execution_count": 127,
   "metadata": {},
   "outputs": [
    {
     "data": {
      "text/html": [
       "<div>\n",
       "<style scoped>\n",
       "    .dataframe tbody tr th:only-of-type {\n",
       "        vertical-align: middle;\n",
       "    }\n",
       "\n",
       "    .dataframe tbody tr th {\n",
       "        vertical-align: top;\n",
       "    }\n",
       "\n",
       "    .dataframe thead th {\n",
       "        text-align: right;\n",
       "    }\n",
       "</style>\n",
       "<table border=\"1\" class=\"dataframe\">\n",
       "  <thead>\n",
       "    <tr style=\"text-align: right;\">\n",
       "      <th></th>\n",
       "      <th>pages_visited</th>\n",
       "    </tr>\n",
       "    <tr>\n",
       "      <th>test</th>\n",
       "      <th></th>\n",
       "    </tr>\n",
       "  </thead>\n",
       "  <tbody>\n",
       "    <tr>\n",
       "      <th>0</th>\n",
       "      <td>4.609804</td>\n",
       "    </tr>\n",
       "    <tr>\n",
       "      <th>1</th>\n",
       "      <td>4.694989</td>\n",
       "    </tr>\n",
       "  </tbody>\n",
       "</table>\n",
       "</div>"
      ],
      "text/plain": [
       "      pages_visited\n",
       "test               \n",
       "0          4.609804\n",
       "1          4.694989"
      ]
     },
     "execution_count": 127,
     "metadata": {},
     "output_type": "execute_result"
    }
   ],
   "source": [
    "df_merge[['test','pages_visited']].groupby('test').mean()"
   ]
  },
  {
   "cell_type": "markdown",
   "metadata": {},
   "source": [
    "* H0: mean(control) >= mean(test)\n",
    "* H1: mean(control) < mean(test)"
   ]
  },
  {
   "cell_type": "code",
   "execution_count": 128,
   "metadata": {},
   "outputs": [
    {
     "name": "stdout",
     "output_type": "stream",
     "text": [
      "reject H0\n"
     ]
    }
   ],
   "source": [
    "Ttest_indResult = stats.ttest_ind(df_ctrl['pages_visited'], df_exp['pages_visited'], axis=0, equal_var=True)\n",
    "\n",
    "if Ttest_indResult.pvalue/2 > 0.05:\n",
    "  print(\"fail to reject null H0\")\n",
    "elif Ttest_indResult.pvalue/2 <= 0.05:\n",
    "  print(\"reject H0\")"
   ]
  },
  {
   "cell_type": "markdown",
   "metadata": {},
   "source": [
    "**<font color='color'>Result: Ater removing one issue browser, the rest of the data points shows the program did increase the pageview per session by 0.09. However, this increase is very small and it is not even one pageview, I will talk with the product manager and the engineer to see if it is even worth to launch.**\n",
    "    "
   ]
  },
  {
   "cell_type": "code",
   "execution_count": null,
   "metadata": {},
   "outputs": [],
   "source": []
  }
 ],
 "metadata": {
  "kernelspec": {
   "display_name": "Python 3",
   "language": "python",
   "name": "python3"
  },
  "language_info": {
   "codemirror_mode": {
    "name": "ipython",
    "version": 3
   },
   "file_extension": ".py",
   "mimetype": "text/x-python",
   "name": "python",
   "nbconvert_exporter": "python",
   "pygments_lexer": "ipython3",
   "version": "3.7.3"
  }
 },
 "nbformat": 4,
 "nbformat_minor": 2
}
